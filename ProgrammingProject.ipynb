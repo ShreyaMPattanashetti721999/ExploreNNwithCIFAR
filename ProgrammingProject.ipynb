{
  "nbformat": 4,
  "nbformat_minor": 0,
  "metadata": {
    "colab": {
      "provenance": [],
      "gpuType": "T4"
    },
    "kernelspec": {
      "name": "python3",
      "display_name": "Python 3"
    },
    "language_info": {
      "name": "python"
    },
    "accelerator": "GPU"
  },
  "cells": [
    {
      "cell_type": "code",
      "source": [
        "##################### MODEL 1 #######################\n",
        "######## BASIC ARCHITECTURE #########"
      ],
      "metadata": {
        "id": "7AWJjfDM0zsR"
      },
      "execution_count": null,
      "outputs": []
    },
    {
      "cell_type": "code",
      "execution_count": null,
      "metadata": {
        "id": "-dqaDRb3BqEu"
      },
      "outputs": [],
      "source": [
        "# Importing all the required libraries\n",
        "import torch\n",
        "from torchvision import datasets, transforms\n",
        "from torch.utils.data import DataLoader\n",
        "\n",
        "import torch.nn as nn\n",
        "import torch.optim as optim\n",
        "from torch.optim.lr_scheduler import StepLR\n"
      ]
    },
    {
      "cell_type": "code",
      "source": [
        "# I am converting the images to PyTorch tensors (transforms.ToTensor()) and normalizing the pixel values with mean (0.5, 0.5, 0.5) and standard deviation (0.5, 0.5, 0.5)\n",
        "transform = transforms.Compose([\n",
        "    transforms.ToTensor(),\n",
        "    transforms.Normalize((0.5, 0.5, 0.5), (0.5, 0.5, 0.5))\n",
        "])"
      ],
      "metadata": {
        "id": "ZaE6bybHCGeF"
      },
      "execution_count": null,
      "outputs": []
    },
    {
      "cell_type": "code",
      "source": [
        "# Here, I am downloading the CIFAR-10 dataset and creating datasets for training and testing using the transformation above\n",
        "train_dataset = datasets.CIFAR10(root='./data', train=True, download=True, transform=transform)\n",
        "test_dataset = datasets.CIFAR10(root='./data', train=False, download=True, transform=transform)"
      ],
      "metadata": {
        "id": "Xi1nGBLOCJTj",
        "colab": {
          "base_uri": "https://localhost:8080/"
        },
        "outputId": "d04d3d09-b2ee-4b03-f1f6-ded44ce03858"
      },
      "execution_count": null,
      "outputs": [
        {
          "output_type": "stream",
          "name": "stdout",
          "text": [
            "Downloading https://www.cs.toronto.edu/~kriz/cifar-10-python.tar.gz to ./data/cifar-10-python.tar.gz\n"
          ]
        },
        {
          "output_type": "stream",
          "name": "stderr",
          "text": [
            "100%|██████████| 170498071/170498071 [00:03<00:00, 53868234.27it/s]\n"
          ]
        },
        {
          "output_type": "stream",
          "name": "stdout",
          "text": [
            "Extracting ./data/cifar-10-python.tar.gz to ./data\n",
            "Files already downloaded and verified\n"
          ]
        }
      ]
    },
    {
      "cell_type": "code",
      "source": [
        "# Here are the data loaders for training and testing datasets using DataLoader. Data loaders are used to efficiently load data in batches during training and evaluation\n",
        "train_loader = DataLoader(train_dataset, batch_size=64, shuffle=True)\n",
        "test_loader = DataLoader(test_dataset, batch_size=64, shuffle=False)"
      ],
      "metadata": {
        "id": "Wy0imUZJCNWj"
      },
      "execution_count": null,
      "outputs": []
    },
    {
      "cell_type": "code",
      "source": [
        "# Importing the necessary modules for defining neural network architecture using PyTorch\n",
        "import torch\n",
        "import torch.nn as nn\n",
        "import torch.nn.functional as F\n",
        "\n",
        "# Class IntermediateBlock which represents a block which consists of multiple convolutional layers (conv_layers) followed by a fully connected layer (fc).\n",
        "class IntermediateBlock(nn.Module):\n",
        "    def __init__(self, in_channels, out_channels, num_layers):\n",
        "        super(IntermediateBlock, self).__init__()\n",
        "        self.conv_layers = nn.ModuleList([nn.Conv2d(in_channels, out_channels, kernel_size=3, padding=1) for _ in range(num_layers)])\n",
        "        self.fc = nn.Linear(in_channels, num_layers)\n",
        "\n",
        "# The forward pass computation for the IntermediateBlock computes the mean of the input tensor x, calculates coefficients a using the fully connected layer.\n",
        "    def forward(self, x):\n",
        "        # Compute the mean of the channels\n",
        "        m = x.mean([2, 3])\n",
        "        # Compute the coefficients\n",
        "        a = self.fc(m)\n",
        "        # Apply each convolutional layer to the input x and combine using the coefficients a\n",
        "        x_prime = sum(F.relu(conv(x)) * a[:, i].unsqueeze(1).unsqueeze(2).unsqueeze(3) for i, conv in enumerate(self.conv_layers))\n",
        "        return x_prime"
      ],
      "metadata": {
        "id": "lJp-YWpHCQIX"
      },
      "execution_count": null,
      "outputs": []
    },
    {
      "cell_type": "code",
      "source": [
        "# Heres the class OutputBlock is the output block which consists of an adaptive average pooling layer (avgpool) followed by a fully connected layer (fc) to produce the final output logits.\n",
        "class OutputBlock(nn.Module):\n",
        "    def __init__(self, in_channels, num_classes):\n",
        "        super(OutputBlock, self).__init__()\n",
        "        self.avgpool = nn.AdaptiveAvgPool2d((1, 1))\n",
        "        self.fc = nn.Linear(in_channels, num_classes)\n",
        "\n",
        "    def forward(self, x):\n",
        "        # Pool the features to get a single value per channel\n",
        "        m = self.avgpool(x).view(x.size(0), -1)\n",
        "        # Compute the logits\n",
        "        o = self.fc(m)\n",
        "        return o"
      ],
      "metadata": {
        "id": "4yDTbKdRCUq4"
      },
      "execution_count": null,
      "outputs": []
    },
    {
      "cell_type": "code",
      "source": [
        "class CIFAR10Classifier(nn.Module):\n",
        "    def __init__(self, num_blocks, num_layers_per_block, in_channels, block_out_channels, num_classes):\n",
        "        super(CIFAR10Classifier, self).__init__()\n",
        "        self.blocks = nn.Sequential(*[IntermediateBlock(in_channels if i == 0 else block_out_channels, block_out_channels, num_layers_per_block) for i in range(num_blocks)])\n",
        "        self.output_block = OutputBlock(block_out_channels, num_classes)\n",
        "\n",
        "# The forward pass computation for the CIFAR10Classifier which applies the intermediate blocks (blocks) to the input tensor x followed by the output block (output_block) to produce the final logits for classification.\n",
        "    def forward(self, x):\n",
        "        x = self.blocks(x)\n",
        "        logits = self.output_block(x)\n",
        "        return logits"
      ],
      "metadata": {
        "id": "3kYPc5IUCYCp"
      },
      "execution_count": null,
      "outputs": []
    },
    {
      "cell_type": "code",
      "source": [
        "\n",
        "# PyTorch and related libraries import\n",
        "import torch.optim as optim\n",
        "from torch.utils.data.sampler import SubsetRandomSampler\n",
        "\n",
        "# The below lines define the batch size (batch_size) and the number of workers (num_workers) for data loading.\n",
        "# The batch size determines the number of samples processed in each iteration, and the number of workers specifies how many subprocesses to use for data loading.\n",
        "\n",
        "batch_size = 64  # Batch size (b)\n",
        "num_workers = 2\n",
        "\n",
        "# Define the model\n",
        "model = CIFAR10Classifier(num_blocks=3, num_layers_per_block=2, in_channels=3, block_out_channels=64, num_classes=10)\n",
        "\n",
        "# Loss function and optimizer\n",
        "criterion = nn.CrossEntropyLoss()\n",
        "optimizer = optim.SGD(model.parameters(), lr=0.01, momentum=0.9)\n",
        "\n",
        "# This function compute_accuracy computes the accuracy of predictions given logits and target labels.\n",
        "# It compares the predicted class indices with the target class indices and calculates the number of correct predictions.\n",
        "def compute_accuracy(logit, target):\n",
        "    _, pred = torch.max(logit.data, 1)\n",
        "    correct = (pred == target).sum().item()\n",
        "    return correct\n",
        "\n",
        "# Training loop\n",
        "def train_model(model, train_loader, criterion, optimizer, n_epochs=10):\n",
        "    model.train()\n",
        "    for epoch in range(n_epochs):\n",
        "        running_loss = 0.0\n",
        "        total_correct = 0\n",
        "        total_images = 0\n",
        "        for i, data in enumerate(train_loader, 0):\n",
        "            inputs, labels = data\n",
        "            optimizer.zero_grad()\n",
        "            outputs = model(inputs)\n",
        "            loss = criterion(outputs, labels)\n",
        "            loss.backward()\n",
        "            optimizer.step()\n",
        "\n",
        "            running_loss += loss.item()\n",
        "            total_correct += compute_accuracy(outputs, labels)\n",
        "            total_images += labels.size(0)\n",
        "\n",
        "        # Print statistics\n",
        "        print(f'Epoch {epoch+1}/{n_epochs} - Loss: {running_loss/i:.3f}, Accuracy: {total_correct/total_images*100:.2f}%')\n",
        "\n",
        "# This function test_model defines the testing loop. It evaluates the model on the test data.\n",
        "# It iterates over batches of data from the test_loader, computes predictions, calculates the test loss and accuracy, and prints the results.\n",
        "def test_model(model, test_loader, criterion):\n",
        "    model.eval()\n",
        "    test_loss = 0.0\n",
        "    total_correct = 0\n",
        "    total_images = 0\n",
        "    with torch.no_grad():\n",
        "        for data in test_loader:\n",
        "            images, labels = data\n",
        "            outputs = model(images)\n",
        "            loss = criterion(outputs, labels)\n",
        "            test_loss += loss.item()\n",
        "            total_correct += compute_accuracy(outputs, labels)\n",
        "            total_images += labels.size(0)\n",
        "\n",
        "    # Print test results\n",
        "    print(f'Test Loss: {test_loss/len(test_loader):.3f}, Test Accuracy: {total_correct/total_images*100:.2f}%')\n",
        "\n",
        "# Running the training and testing\n",
        "train_model(model, train_loader, criterion, optimizer, n_epochs=10)\n",
        "test_model(model, test_loader, criterion)"
      ],
      "metadata": {
        "id": "9PkXMqJ7EVeO",
        "colab": {
          "base_uri": "https://localhost:8080/"
        },
        "outputId": "a86e8970-13f1-4f9e-fbb7-f5bfd1ec88cf"
      },
      "execution_count": null,
      "outputs": [
        {
          "output_type": "stream",
          "name": "stdout",
          "text": [
            "Epoch 1/10 - Loss: 2.306, Accuracy: 9.86%\n",
            "Epoch 2/10 - Loss: 2.293, Accuracy: 11.78%\n",
            "Epoch 3/10 - Loss: 1.931, Accuracy: 27.75%\n",
            "Epoch 4/10 - Loss: 1.608, Accuracy: 40.68%\n",
            "Epoch 5/10 - Loss: 1.441, Accuracy: 48.02%\n",
            "Epoch 6/10 - Loss: 1.301, Accuracy: 53.71%\n",
            "Epoch 7/10 - Loss: 1.208, Accuracy: 56.83%\n",
            "Epoch 8/10 - Loss: 1.123, Accuracy: 60.24%\n",
            "Epoch 9/10 - Loss: 1.071, Accuracy: 62.20%\n",
            "Epoch 10/10 - Loss: 1.002, Accuracy: 64.82%\n",
            "Test Loss: 1.016, Test Accuracy: 64.50%\n"
          ]
        }
      ]
    },
    {
      "cell_type": "markdown",
      "source": [
        "Improvisation done in the below Model 2 compared to Model 1:\n",
        "\n",
        "Model 2 has more blocks (num_blocks=4) and more layers per block (num_layers_per_block=3) compared to Model 1, which has fewer blocks (num_blocks=3) and fewer layers per block (num_layers_per_block=2).\n",
        "More layers generally allow the model to learn more complex features and patterns in the data, potentially improving its ability to generalize.\n",
        "\n",
        "Model 2 uses an SGD optimizer with a learning rate scheduler (torch.optim.lr_scheduler.StepLR) which adjusts the learning rate during training based on a predefined schedule.\n",
        "Adaptive learning rate techniques can help the model converge faster and improve performance by dynamically adjusting the learning rate as training progresses.\n",
        "\n",
        "Model 2 includes weight decay (weight_decay=1e-4) in the optimizer, which penalizes large weights during training.\n",
        "Weight decay regularization can help prevent overfitting by encouraging the model to learn simpler patterns and reduce sensitivity to noise in the training data.\n",
        "\n",
        "\n",
        "\n"
      ],
      "metadata": {
        "id": "ssvw61uLdKzD"
      }
    },
    {
      "cell_type": "code",
      "source": [
        "################### MODEL 2 ########################\n",
        "\n",
        "def train_and_evaluate(model, train_loader, test_loader, optimizer, criterion, n_epochs, device='cuda'):\n",
        "    model.to(device)\n",
        "    model.train()\n",
        "\n",
        "    for epoch in range(n_epochs):\n",
        "        epoch_loss = 0\n",
        "        correct = 0\n",
        "        total = 0\n",
        "\n",
        "        for batch_idx, (inputs, targets) in enumerate(train_loader):\n",
        "            inputs, targets = inputs.to(device), targets.to(device)\n",
        "            optimizer.zero_grad()\n",
        "            outputs = model(inputs)\n",
        "            loss = criterion(outputs, targets)\n",
        "            loss.backward()\n",
        "            optimizer.step()\n",
        "\n",
        "            epoch_loss += loss.item()\n",
        "            _, predicted = outputs.max(1)\n",
        "            total += targets.size(0)\n",
        "            correct += predicted.eq(targets).sum().item()\n",
        "\n",
        "        train_accuracy = 100. * correct / total\n",
        "        print(f'Epoch: {epoch+1}, Loss: {epoch_loss/(batch_idx+1):.3f}, Training Accuracy: {train_accuracy:.2f}%')\n",
        "\n",
        "# Within each epoch, it iterates over batches of data from the training loader (train_loader).\n",
        "# It moves the inputs and targets to the specified device (device), clears the gradients (optimizer.zero_grad()), computes the outputs of the model,\n",
        "# calculates the loss using the specified criterion (criterion), computes gradients with backward propagation (loss.backward()),\n",
        "# updates the model parameters using the optimizer (optimizer.step()). It also keeps track of the total loss (epoch_loss), the number of correctly predicted samples (correct)\n",
        "# and the total number of samples (total) to calculate the training accuracy at the end of each epoch.\n",
        "\n",
        "        # Evaluate on the test set\n",
        "        model.eval()\n",
        "        test_loss = 0\n",
        "        correct = 0\n",
        "        total = 0\n",
        "        with torch.no_grad():\n",
        "            for batch_idx, (inputs, targets) in enumerate(test_loader):\n",
        "                inputs, targets = inputs.to(device), targets.to(device)\n",
        "                outputs = model(inputs)\n",
        "                loss = criterion(outputs, targets)\n",
        "                test_loss += loss.item()\n",
        "                _, predicted = outputs.max(1)\n",
        "                total += targets.size(0)\n",
        "                correct += predicted.eq(targets).sum().item()\n",
        "\n",
        "        test_accuracy = 100. * correct / total\n",
        "        print(f'Test Accuracy: {test_accuracy:.2f}%\\n')\n",
        "\n",
        "\n",
        "\n",
        "model = CIFAR10Classifier(\n",
        "    num_blocks=4,\n",
        "    num_layers_per_block=3,\n",
        "    in_channels=3,\n",
        "    block_out_channels=64,\n",
        "    num_classes=10\n",
        ")\n",
        "\n",
        "# Next, create an instance of the SGD optimizer (optim.SGD) and specify its parameters:\n",
        "# model.parameters(): This provides the parameters (weights and biases) of the model to be optimized.\n",
        "# lr=0.01: Specifies the learning rate for the optimizer. It controls the step size during optimization.\n",
        "# momentum=0.9: Specifies the momentum for the optimizer. Momentum helps accelerate gradient descent in the relevant direction and dampens oscillations.\n",
        "# weight_decay=1e-4: Specifies the weight decay (L2 penalty) for the optimizer. It adds a regularization term to the loss function, helping prevent overfitting by penalizing large weights.\n",
        "\n",
        "optimizer = optim.SGD(model.parameters(), lr=0.01, momentum=0.9, weight_decay=1e-4)\n",
        "criterion = nn.CrossEntropyLoss()\n",
        "\n",
        "train_and_evaluate(\n",
        "    model,\n",
        "    train_loader,\n",
        "    test_loader,\n",
        "    optimizer,\n",
        "    criterion,\n",
        "    n_epochs=30\n",
        ")"
      ],
      "metadata": {
        "id": "hcakHNUmCcJy",
        "colab": {
          "base_uri": "https://localhost:8080/"
        },
        "outputId": "aa4d32f9-ebb5-465f-9db8-96baf09c75f6"
      },
      "execution_count": null,
      "outputs": [
        {
          "output_type": "stream",
          "name": "stdout",
          "text": [
            "Epoch: 1, Loss: 2.303, Training Accuracy: 9.79%\n",
            "Test Accuracy: 10.00%\n",
            "\n",
            "Epoch: 2, Loss: 2.303, Training Accuracy: 10.08%\n",
            "Test Accuracy: 10.00%\n",
            "\n",
            "Epoch: 3, Loss: 2.303, Training Accuracy: 10.05%\n",
            "Test Accuracy: 10.00%\n",
            "\n",
            "Epoch: 4, Loss: 2.303, Training Accuracy: 10.00%\n",
            "Test Accuracy: 10.00%\n",
            "\n",
            "Epoch: 5, Loss: 2.303, Training Accuracy: 9.87%\n",
            "Test Accuracy: 10.00%\n",
            "\n",
            "Epoch: 6, Loss: 2.303, Training Accuracy: 9.67%\n",
            "Test Accuracy: 10.00%\n",
            "\n",
            "Epoch: 7, Loss: 2.303, Training Accuracy: 10.23%\n",
            "Test Accuracy: 10.00%\n",
            "\n",
            "Epoch: 8, Loss: 2.303, Training Accuracy: 9.83%\n",
            "Test Accuracy: 10.00%\n",
            "\n",
            "Epoch: 9, Loss: 2.303, Training Accuracy: 9.96%\n",
            "Test Accuracy: 10.00%\n",
            "\n",
            "Epoch: 10, Loss: 2.303, Training Accuracy: 9.77%\n",
            "Test Accuracy: 10.00%\n",
            "\n",
            "Epoch: 11, Loss: 2.303, Training Accuracy: 9.89%\n",
            "Test Accuracy: 10.00%\n",
            "\n",
            "Epoch: 12, Loss: 2.303, Training Accuracy: 9.90%\n",
            "Test Accuracy: 10.00%\n",
            "\n",
            "Epoch: 13, Loss: 2.303, Training Accuracy: 9.81%\n",
            "Test Accuracy: 10.00%\n",
            "\n",
            "Epoch: 14, Loss: 2.303, Training Accuracy: 9.80%\n",
            "Test Accuracy: 10.00%\n",
            "\n",
            "Epoch: 15, Loss: 2.303, Training Accuracy: 9.94%\n",
            "Test Accuracy: 10.00%\n",
            "\n",
            "Epoch: 16, Loss: 2.303, Training Accuracy: 9.92%\n",
            "Test Accuracy: 10.00%\n",
            "\n",
            "Epoch: 17, Loss: 2.303, Training Accuracy: 10.11%\n",
            "Test Accuracy: 10.00%\n",
            "\n",
            "Epoch: 18, Loss: 2.303, Training Accuracy: 9.75%\n",
            "Test Accuracy: 10.00%\n",
            "\n",
            "Epoch: 19, Loss: 2.303, Training Accuracy: 9.89%\n",
            "Test Accuracy: 10.00%\n",
            "\n",
            "Epoch: 20, Loss: 2.303, Training Accuracy: 9.90%\n",
            "Test Accuracy: 10.00%\n",
            "\n",
            "Epoch: 21, Loss: 2.303, Training Accuracy: 9.90%\n",
            "Test Accuracy: 10.00%\n",
            "\n",
            "Epoch: 22, Loss: 2.303, Training Accuracy: 10.01%\n",
            "Test Accuracy: 10.00%\n",
            "\n",
            "Epoch: 23, Loss: 2.303, Training Accuracy: 10.08%\n",
            "Test Accuracy: 10.00%\n",
            "\n",
            "Epoch: 24, Loss: 2.303, Training Accuracy: 9.81%\n",
            "Test Accuracy: 10.00%\n",
            "\n",
            "Epoch: 25, Loss: 2.303, Training Accuracy: 9.78%\n",
            "Test Accuracy: 10.00%\n",
            "\n",
            "Epoch: 26, Loss: 2.303, Training Accuracy: 10.02%\n",
            "Test Accuracy: 10.00%\n",
            "\n",
            "Epoch: 27, Loss: 2.303, Training Accuracy: 9.80%\n",
            "Test Accuracy: 10.00%\n",
            "\n",
            "Epoch: 28, Loss: 2.303, Training Accuracy: 9.91%\n",
            "Test Accuracy: 10.00%\n",
            "\n",
            "Epoch: 29, Loss: 2.303, Training Accuracy: 9.76%\n",
            "Test Accuracy: 10.00%\n",
            "\n",
            "Epoch: 30, Loss: 2.303, Training Accuracy: 10.02%\n",
            "Test Accuracy: 10.00%\n",
            "\n"
          ]
        }
      ]
    },
    {
      "cell_type": "markdown",
      "source": [
        "Improvisation done in Model 3 from Model 2:\n",
        "\n",
        "Model 3 has a higher number of layers per block (num_layers_per_block=4) compared to Model 2 (num_layers_per_block=3).\n",
        "More layers per block can allow the model to capture more complex patterns in the data, potentially improving its representational capacity.\n",
        "\n",
        "Model 3 utilizes the Adam optimizer (optim.Adam) instead of SGD used in Model 2.\n",
        "Adam optimizer typically offers faster convergence and better generalization by adaptively adjusting learning rates for each parameter.\n",
        "\n",
        "Model 3 employs a learning rate scheduler (torch.optim.lr_scheduler.StepLR) that decreases the learning rate by a factor of 0.1 every 30 epochs.\n",
        "Learning rate scheduling helps stabilize training by gradually reducing the learning rate, potentially enabling the model to converge to a better optimum.\n",
        "\n",
        "Model 3 applies data augmentation techniques during training, including random cropping and horizontal flipping (transform_train).\n",
        "Data augmentation introduces variations in the training data, promoting better generalization and robustness of the model.\n",
        "\n",
        "Model 3 uses a larger batch size of 128 during training (batch_size=128) compared to Model 2 (batch_size=64).\n",
        "Larger batch sizes can lead to more stable gradients and faster convergence, especially when training on modern GPU architectures."
      ],
      "metadata": {
        "id": "hjZl6zUffxXD"
      }
    },
    {
      "cell_type": "code",
      "source": [
        "######################### MODEL 3 ###################################\n"
      ],
      "metadata": {
        "id": "5pF-06bvEiy_"
      },
      "execution_count": null,
      "outputs": []
    },
    {
      "cell_type": "code",
      "source": [
        "# Data augmentation and normalization for the training set\n",
        "transform_train = transforms.Compose([\n",
        "    transforms.RandomCrop(32, padding=4),\n",
        "    transforms.RandomHorizontalFlip(),\n",
        "    transforms.ToTensor(),\n",
        "    transforms.Normalize((0.5, 0.5, 0.5), (0.5, 0.5, 0.5)),\n",
        "])"
      ],
      "metadata": {
        "id": "H1pky0beFT63"
      },
      "execution_count": null,
      "outputs": []
    },
    {
      "cell_type": "code",
      "source": [
        "# Normalization for the testing set (no augmentation)\n",
        "transform_test = transforms.Compose([\n",
        "    transforms.ToTensor(),\n",
        "    transforms.Normalize((0.5, 0.5, 0.5), (0.5, 0.5, 0.5)),\n",
        "])"
      ],
      "metadata": {
        "id": "hozmYsO5FWfY"
      },
      "execution_count": null,
      "outputs": []
    },
    {
      "cell_type": "code",
      "source": [
        "# Load datasets\n",
        "train_dataset = datasets.CIFAR10(root='./data', train=True, download=True, transform=transform_train)\n",
        "test_dataset = datasets.CIFAR10(root='./data', train=False, download=True, transform=transform_test)"
      ],
      "metadata": {
        "id": "vgbyvxqKFZO6",
        "colab": {
          "base_uri": "https://localhost:8080/"
        },
        "outputId": "422a0f72-77b2-4211-9fa8-a0a7875a929c"
      },
      "execution_count": null,
      "outputs": [
        {
          "output_type": "stream",
          "name": "stdout",
          "text": [
            "Downloading https://www.cs.toronto.edu/~kriz/cifar-10-python.tar.gz to ./data/cifar-10-python.tar.gz\n"
          ]
        },
        {
          "output_type": "stream",
          "name": "stderr",
          "text": [
            "100%|██████████| 170498071/170498071 [00:03<00:00, 45835716.84it/s]\n"
          ]
        },
        {
          "output_type": "stream",
          "name": "stdout",
          "text": [
            "Extracting ./data/cifar-10-python.tar.gz to ./data\n",
            "Files already downloaded and verified\n"
          ]
        }
      ]
    },
    {
      "cell_type": "code",
      "source": [
        "# Create DataLoaders\n",
        "train_loader = DataLoader(train_dataset, batch_size=128, shuffle=True, num_workers=2)\n",
        "test_loader = DataLoader(test_dataset, batch_size=128, shuffle=False, num_workers=2)"
      ],
      "metadata": {
        "id": "61JKotfMFbwE"
      },
      "execution_count": null,
      "outputs": []
    },
    {
      "cell_type": "code",
      "source": [
        "import torch\n",
        "import torch.nn as nn\n",
        "import torch.nn.functional as F\n",
        "\n",
        "class IntermediateBlock(nn.Module):\n",
        "    def __init__(self, in_channels, out_channels, num_layers):\n",
        "        super(IntermediateBlock, self).__init__()\n",
        "        self.conv_layers = nn.ModuleList([nn.Conv2d(in_channels, out_channels, kernel_size=3, padding=1) for _ in range(num_layers)])\n",
        "        self.fc = nn.Linear(in_channels, num_layers)\n",
        "\n",
        "    def forward(self, x):\n",
        "        # Compute the mean of the channels\n",
        "        m = x.mean([2, 3])\n",
        "        # Compute the coefficients\n",
        "        a = self.fc(m)\n",
        "        # Apply each convolutional layer to the input x and combine using the coefficients a\n",
        "        x_prime = sum(F.relu(conv(x)) * a[:, i].unsqueeze(1).unsqueeze(2).unsqueeze(3) for i, conv in enumerate(self.conv_layers))\n",
        "        return x_prime"
      ],
      "metadata": {
        "id": "F67C7JKkFgkN"
      },
      "execution_count": null,
      "outputs": []
    },
    {
      "cell_type": "code",
      "source": [
        "class OutputBlock(nn.Module):\n",
        "    def __init__(self, in_channels, num_classes):\n",
        "        super(OutputBlock, self).__init__()\n",
        "        self.avgpool = nn.AdaptiveAvgPool2d((1, 1))\n",
        "        self.fc = nn.Linear(in_channels, num_classes)\n",
        "\n",
        "    def forward(self, x):\n",
        "        # Pool the features to get a single value per channel\n",
        "        m = self.avgpool(x).view(x.size(0), -1)\n",
        "        # Compute the logits\n",
        "        o = self.fc(m)\n",
        "        return o"
      ],
      "metadata": {
        "id": "5vHkVpWzFkGM"
      },
      "execution_count": null,
      "outputs": []
    },
    {
      "cell_type": "code",
      "source": [
        "class CIFAR10Classifier(nn.Module):\n",
        "    def __init__(self, num_blocks, num_layers_per_block, in_channels, block_out_channels, num_classes):\n",
        "        super(CIFAR10Classifier, self).__init__()\n",
        "        self.blocks = nn.Sequential(*[IntermediateBlock(in_channels if i == 0 else block_out_channels, block_out_channels, num_layers_per_block) for i in range(num_blocks)])\n",
        "        self.output_block = OutputBlock(block_out_channels, num_classes)\n",
        "\n",
        "    def forward(self, x):\n",
        "        x = self.blocks(x)\n",
        "        logits = self.output_block(x)\n",
        "        return logits"
      ],
      "metadata": {
        "id": "86Dc1VyvFnjt"
      },
      "execution_count": null,
      "outputs": []
    },
    {
      "cell_type": "code",
      "source": [
        "import matplotlib.pyplot as plt\n",
        "\n",
        "# Define the model\n",
        "model = CIFAR10Classifier(num_blocks=3, num_layers_per_block=4, in_channels=3, block_out_channels=128, num_classes=10)\n",
        "\n",
        "# Define the loss function and optimizer\n",
        "criterion = nn.CrossEntropyLoss()\n",
        "optimizer = optim.Adam(model.parameters(), lr=0.001)\n",
        "\n",
        "# Learning rate scheduler\n",
        "scheduler = StepLR(optimizer, step_size=30, gamma=0.1)\n",
        "\n",
        "# Check if CUDA is available and move the model to GPU if possible\n",
        "device = torch.device(\"cuda\" if torch.cuda.is_available() else \"cpu\")\n",
        "model.to(device)\n",
        "\n",
        "# Training function\n",
        "def train(n_epochs, train_loader, test_loader, model, optimizer, criterion, scheduler, device):\n",
        "    model.train()  # Set the model to training mode\n",
        "    batch_losses = []\n",
        "    epoch_train_acc = []\n",
        "    epoch_test_acc = []\n",
        "\n",
        "    for epoch in range(n_epochs):\n",
        "        running_loss = 0.0\n",
        "        correct = 0\n",
        "        total = 0\n",
        "        model.train()\n",
        "\n",
        "        for batch_idx, (inputs, targets) in enumerate(train_loader):\n",
        "            inputs, targets = inputs.to(device), targets.to(device)\n",
        "            optimizer.zero_grad()\n",
        "            outputs = model(inputs)\n",
        "            loss = criterion(outputs, targets)\n",
        "            loss.backward()\n",
        "            optimizer.step()\n",
        "\n",
        "            running_loss += loss.item()\n",
        "            batch_losses.append(loss.item())  # Record batch loss\n",
        "            _, predicted = torch.max(outputs.data, 1)\n",
        "            total += targets.size(0)\n",
        "            correct += (predicted == targets).sum().item()\n",
        "\n",
        "        scheduler.step()  # Update the learning rate\n",
        "        train_accuracy = 100 * correct / total\n",
        "        epoch_train_acc.append(train_accuracy)  # Record training accuracy\n",
        "\n",
        "        # Print training results\n",
        "        print(f'Epoch {epoch+1} - Loss: {running_loss / len(train_loader):.3f}, Accuracy: {train_accuracy:.2f}%')\n",
        "\n",
        "        # Run evaluation after each epoch\n",
        "        test_accuracy = evaluate(test_loader, model, criterion, device)\n",
        "        epoch_test_acc.append(test_accuracy)  # Record testing accuracy\n",
        "\n",
        "    # Plot batch losses\n",
        "    plt.figure(figsize=(12, 6))\n",
        "    plt.plot(batch_losses, label='Batch Loss')\n",
        "    plt.xlabel('Batch')\n",
        "    plt.ylabel('Loss')\n",
        "    plt.legend()\n",
        "    plt.title('Training Batch Losses')\n",
        "    plt.show()\n",
        "\n",
        "    # Plot training and testing accuracies\n",
        "    plt.figure(figsize=(12, 6))\n",
        "    plt.plot(epoch_train_acc, label='Training Accuracy')\n",
        "    plt.plot(epoch_test_acc, label='Testing Accuracy')\n",
        "    plt.xlabel('Epoch')\n",
        "    plt.ylabel('Accuracy')\n",
        "    plt.legend()\n",
        "    plt.title('Training and Testing Accuracies')\n",
        "    plt.show()\n",
        "\n",
        "    return epoch_train_acc, epoch_test_acc, batch_losses\n",
        "\n",
        "# Evaluation function now returns accuracy\n",
        "def evaluate(test_loader, model, criterion, device):\n",
        "    model.eval()  # Set the model to evaluation mode\n",
        "    test_loss = 0\n",
        "    correct = 0\n",
        "    total = 0\n",
        "\n",
        "    with torch.no_grad():\n",
        "        for batch_idx, (inputs, targets) in enumerate(test_loader):\n",
        "            inputs, targets = inputs.to(device), targets.to(device)\n",
        "            outputs = model(inputs)\n",
        "            loss = criterion(outputs, targets)\n",
        "            test_loss += loss.item()\n",
        "            _, predicted = torch.max(outputs.data, 1)\n",
        "            total += targets.size(0)\n",
        "            correct += (predicted == targets).sum().item()\n",
        "\n",
        "    test_accuracy = 100 * correct / total\n",
        "    print(f'Test Loss: {test_loss / len(test_loader):.3f}, Test Accuracy: {test_accuracy:.2f}%')\n",
        "    return test_accuracy\n",
        "\n",
        "# Check if CUDA is available and move the model to GPU if possible\n",
        "device = torch.device(\"cuda\" if torch.cuda.is_available() else \"cpu\")\n",
        "model.to(device)\n",
        "\n",
        "# Run the training and evaluation\n",
        "n_epochs = 50  # Number of epochs to train for\n",
        "train_stats = train(n_epochs, train_loader, test_loader, model, optimizer, criterion, scheduler, device)"
      ],
      "metadata": {
        "id": "qjtX8DWvFqVU",
        "colab": {
          "base_uri": "https://localhost:8080/",
          "height": 1000
        },
        "outputId": "42e47bfe-48ee-40b1-9ccb-e58a592b7d72"
      },
      "execution_count": null,
      "outputs": [
        {
          "output_type": "stream",
          "name": "stderr",
          "text": [
            "/usr/lib/python3.10/multiprocessing/popen_fork.py:66: RuntimeWarning: os.fork() was called. os.fork() is incompatible with multithreaded code, and JAX is multithreaded, so this will likely lead to a deadlock.\n",
            "  self.pid = os.fork()\n"
          ]
        },
        {
          "output_type": "stream",
          "name": "stdout",
          "text": [
            "Epoch 1 - Loss: 1.912, Accuracy: 28.01%\n",
            "Test Loss: 1.869, Test Accuracy: 30.49%\n",
            "Epoch 2 - Loss: 1.605, Accuracy: 40.38%\n",
            "Test Loss: 1.581, Test Accuracy: 42.47%\n",
            "Epoch 3 - Loss: 1.409, Accuracy: 48.72%\n",
            "Test Loss: 1.352, Test Accuracy: 51.75%\n",
            "Epoch 4 - Loss: 1.269, Accuracy: 54.44%\n",
            "Test Loss: 1.277, Test Accuracy: 54.64%\n",
            "Epoch 5 - Loss: 1.178, Accuracy: 57.79%\n",
            "Test Loss: 1.158, Test Accuracy: 59.04%\n",
            "Epoch 6 - Loss: 1.104, Accuracy: 60.80%\n",
            "Test Loss: 1.098, Test Accuracy: 61.36%\n",
            "Epoch 7 - Loss: 1.052, Accuracy: 63.03%\n",
            "Test Loss: 1.118, Test Accuracy: 60.27%\n",
            "Epoch 8 - Loss: 0.995, Accuracy: 65.08%\n",
            "Test Loss: 1.046, Test Accuracy: 63.22%\n",
            "Epoch 9 - Loss: 0.947, Accuracy: 66.71%\n",
            "Test Loss: 1.038, Test Accuracy: 63.54%\n",
            "Epoch 10 - Loss: 0.907, Accuracy: 68.06%\n",
            "Test Loss: 0.946, Test Accuracy: 66.17%\n",
            "Epoch 11 - Loss: 0.863, Accuracy: 69.79%\n",
            "Test Loss: 0.931, Test Accuracy: 67.20%\n",
            "Epoch 12 - Loss: 0.827, Accuracy: 71.17%\n",
            "Test Loss: 0.881, Test Accuracy: 69.43%\n",
            "Epoch 13 - Loss: 0.787, Accuracy: 72.39%\n",
            "Test Loss: 0.865, Test Accuracy: 69.58%\n",
            "Epoch 14 - Loss: 0.759, Accuracy: 73.63%\n",
            "Test Loss: 0.955, Test Accuracy: 70.16%\n",
            "Epoch 15 - Loss: 0.728, Accuracy: 74.74%\n",
            "Test Loss: 0.831, Test Accuracy: 71.67%\n",
            "Epoch 16 - Loss: 0.702, Accuracy: 75.55%\n",
            "Test Loss: 0.814, Test Accuracy: 72.69%\n",
            "Epoch 17 - Loss: 0.668, Accuracy: 76.86%\n",
            "Test Loss: 0.826, Test Accuracy: 74.52%\n",
            "Epoch 18 - Loss: 0.661, Accuracy: 77.34%\n",
            "Test Loss: 0.728, Test Accuracy: 75.16%\n",
            "Epoch 19 - Loss: 0.622, Accuracy: 78.27%\n",
            "Test Loss: 0.728, Test Accuracy: 75.29%\n",
            "Epoch 20 - Loss: 0.593, Accuracy: 79.19%\n",
            "Test Loss: 0.761, Test Accuracy: 73.86%\n",
            "Epoch 21 - Loss: 0.573, Accuracy: 80.04%\n",
            "Test Loss: 0.715, Test Accuracy: 74.96%\n",
            "Epoch 22 - Loss: 0.556, Accuracy: 80.59%\n",
            "Test Loss: 0.718, Test Accuracy: 75.56%\n",
            "Epoch 23 - Loss: 0.536, Accuracy: 81.23%\n",
            "Test Loss: 0.723, Test Accuracy: 75.63%\n",
            "Epoch 24 - Loss: 0.521, Accuracy: 81.70%\n",
            "Test Loss: 0.708, Test Accuracy: 76.24%\n",
            "Epoch 25 - Loss: 0.507, Accuracy: 82.27%\n",
            "Test Loss: 0.712, Test Accuracy: 76.33%\n",
            "Epoch 26 - Loss: 0.491, Accuracy: 82.88%\n",
            "Test Loss: 0.673, Test Accuracy: 76.92%\n",
            "Epoch 27 - Loss: 0.468, Accuracy: 83.73%\n",
            "Test Loss: 0.699, Test Accuracy: 76.95%\n",
            "Epoch 28 - Loss: 0.455, Accuracy: 84.25%\n",
            "Test Loss: 0.675, Test Accuracy: 77.41%\n",
            "Epoch 29 - Loss: 0.440, Accuracy: 84.65%\n",
            "Test Loss: 0.680, Test Accuracy: 77.27%\n",
            "Epoch 30 - Loss: 0.420, Accuracy: 85.40%\n",
            "Test Loss: 0.687, Test Accuracy: 77.29%\n",
            "Epoch 31 - Loss: 0.309, Accuracy: 89.46%\n",
            "Test Loss: 0.623, Test Accuracy: 79.91%\n",
            "Epoch 32 - Loss: 0.280, Accuracy: 90.37%\n",
            "Test Loss: 0.637, Test Accuracy: 79.57%\n",
            "Epoch 33 - Loss: 0.272, Accuracy: 90.65%\n",
            "Test Loss: 0.643, Test Accuracy: 80.24%\n",
            "Epoch 34 - Loss: 0.264, Accuracy: 90.97%\n",
            "Test Loss: 0.647, Test Accuracy: 80.17%\n",
            "Epoch 35 - Loss: 0.256, Accuracy: 91.14%\n",
            "Test Loss: 0.661, Test Accuracy: 80.21%\n",
            "Epoch 36 - Loss: 0.251, Accuracy: 91.29%\n",
            "Test Loss: 0.668, Test Accuracy: 79.93%\n",
            "Epoch 37 - Loss: 0.247, Accuracy: 91.43%\n",
            "Test Loss: 0.677, Test Accuracy: 79.87%\n",
            "Epoch 38 - Loss: 0.242, Accuracy: 91.60%\n",
            "Test Loss: 0.674, Test Accuracy: 80.25%\n",
            "Epoch 39 - Loss: 0.239, Accuracy: 91.64%\n",
            "Test Loss: 0.685, Test Accuracy: 79.82%\n",
            "Epoch 40 - Loss: 0.232, Accuracy: 91.86%\n",
            "Test Loss: 0.687, Test Accuracy: 80.05%\n",
            "Epoch 41 - Loss: 0.229, Accuracy: 92.00%\n",
            "Test Loss: 0.700, Test Accuracy: 80.02%\n",
            "Epoch 42 - Loss: 0.224, Accuracy: 92.22%\n",
            "Test Loss: 0.706, Test Accuracy: 80.02%\n",
            "Epoch 43 - Loss: 0.221, Accuracy: 92.22%\n",
            "Test Loss: 0.726, Test Accuracy: 79.76%\n",
            "Epoch 44 - Loss: 0.217, Accuracy: 92.50%\n",
            "Test Loss: 0.730, Test Accuracy: 79.81%\n",
            "Epoch 45 - Loss: 0.213, Accuracy: 92.71%\n",
            "Test Loss: 0.725, Test Accuracy: 79.97%\n",
            "Epoch 46 - Loss: 0.208, Accuracy: 92.80%\n",
            "Test Loss: 0.749, Test Accuracy: 79.56%\n",
            "Epoch 47 - Loss: 0.206, Accuracy: 92.90%\n",
            "Test Loss: 0.745, Test Accuracy: 79.89%\n",
            "Epoch 48 - Loss: 0.201, Accuracy: 93.11%\n",
            "Test Loss: 0.753, Test Accuracy: 79.90%\n",
            "Epoch 49 - Loss: 0.200, Accuracy: 93.09%\n",
            "Test Loss: 0.764, Test Accuracy: 79.88%\n",
            "Epoch 50 - Loss: 0.196, Accuracy: 93.19%\n",
            "Test Loss: 0.773, Test Accuracy: 79.84%\n"
          ]
        },
        {
          "output_type": "display_data",
          "data": {
            "text/plain": [
              "<Figure size 1200x600 with 1 Axes>"
            ],
            "image/png": "[encoded data removed]"
          },
          "metadata": {}
        },
        {
          "output_type": "display_data",
          "data": {
            "text/plain": [
              "<Figure size 1200x600 with 1 Axes>"
            ],
            "image/png": "[encoded data removed]"
          },
          "metadata": {}
        }
      ]
    },
    {
      "cell_type": "markdown",
      "source": [
        "Improvisation in Model 4 compared to Model 2:\n",
        "\n",
        "Model 3 utilizes a custom architecture with intermediate blocks and an output block, while Model 4 employs a ResNet architecture with basic blocks.\n",
        "ResNet, introduced by Microsoft Research, is a deep neural network architecture known for its effectiveness in training very deep networks by using skip connections or residual connections.\n",
        "ResNet consists of repeated blocks of simpler convolutional layers, making it easier to train and less prone to vanishing gradients compared to traditional deep networks.\n",
        "\n",
        "Model 3's custom architecture consists of intermediate blocks followed by an output block, where the number of blocks and layers per block can be customized.\n",
        "Model 4's ResNet architecture consists of basic blocks, each containing two convolutional layers with batch normalization and a skip connection.\n",
        "ResNet architecture employs residual connections to mitigate the vanishing gradient problem, allowing for the training of much deeper networks.\n",
        "\n",
        "Model 3 uses the Adam optimizer (optim.Adam) with a learning rate of 0.001.\n",
        "Model 4 uses the SGD optimizer (optim.SGD) with momentum (0.9), weight decay (5e-4), and an initial learning rate of 0.1.\n",
        "While Adam is known for its adaptive learning rate capabilities and often converges faster, SGD with momentum is a traditional optimization algorithm that is widely used and can achieve good results with proper tuning.\n",
        "\n",
        "Both models employ a learning rate scheduler (torch.optim.lr_scheduler.StepLR) that reduces the learning rate by a factor of 0.1 every 30 epochs.\n",
        "Learning rate scheduling helps in fine-tuning the learning process by adjusting the learning rate during training.\n",
        "\n"
      ],
      "metadata": {
        "id": "4YlBCEsSf9hc"
      }
    },
    {
      "cell_type": "code",
      "source": [
        "######################################### MODEL 4 ########################################"
      ],
      "metadata": {
        "id": "0eb8lwZnf6uU"
      },
      "execution_count": null,
      "outputs": []
    },
    {
      "cell_type": "code",
      "source": [
        "import torch\n",
        "import torch.nn as nn\n",
        "import torch.nn.functional as F\n",
        "import torch.optim as optim\n",
        "import torchvision\n",
        "from torchvision import datasets, transforms\n",
        "from torch.optim.lr_scheduler import StepLR\n",
        "from torch.utils.data import DataLoader\n",
        "import matplotlib.pyplot as plt"
      ],
      "metadata": {
        "id": "flZahzjwWzJJ"
      },
      "execution_count": null,
      "outputs": []
    },
    {
      "cell_type": "code",
      "source": [
        "# Data augmentation and normalization for the training set\n",
        "transform_train = transforms.Compose([\n",
        "    transforms.RandomCrop(32, padding=4),\n",
        "    transforms.RandomHorizontalFlip(),\n",
        "    transforms.ToTensor(),\n",
        "    transforms.Normalize((0.5, 0.5, 0.5), (0.5, 0.5, 0.5)),\n",
        "])\n",
        "\n",
        "# Normalization for the testing set (no augmentation)\n",
        "transform_test = transforms.Compose([\n",
        "    transforms.ToTensor(),\n",
        "    transforms.Normalize((0.5, 0.5, 0.5), (0.5, 0.5, 0.5)),\n",
        "])"
      ],
      "metadata": {
        "id": "Mh_wzHnXY5nE"
      },
      "execution_count": null,
      "outputs": []
    },
    {
      "cell_type": "code",
      "source": [
        "# Load datasets\n",
        "train_dataset = datasets.CIFAR10(root='./data', train=True, download=True, transform=transform_train)\n",
        "test_dataset = datasets.CIFAR10(root='./data', train=False, download=True, transform=transform_test)\n",
        "\n",
        "# Create DataLoaders\n",
        "train_loader = DataLoader(train_dataset, batch_size=128, shuffle=True, num_workers=2)\n",
        "test_loader = DataLoader(test_dataset, batch_size=128, shuffle=False, num_workers=2)\n"
      ],
      "metadata": {
        "colab": {
          "base_uri": "https://localhost:8080/"
        },
        "id": "rn-9yUknZDH0",
        "outputId": "505cba35-c329-4599-d0b2-577b9c0db9fa"
      },
      "execution_count": null,
      "outputs": [
        {
          "output_type": "stream",
          "name": "stdout",
          "text": [
            "Files already downloaded and verified\n",
            "Files already downloaded and verified\n"
          ]
        }
      ]
    },
    {
      "cell_type": "code",
      "source": [
        "class BasicBlock(nn.Module):\n",
        "    def __init__(self, in_channels, out_channels, stride=1):\n",
        "        super(BasicBlock, self).__init__()\n",
        "        self.conv1 = nn.Conv2d(in_channels, out_channels, kernel_size=3, stride=stride, padding=1, bias=False)\n",
        "        self.bn1 = nn.BatchNorm2d(out_channels)\n",
        "        self.conv2 = nn.Conv2d(out_channels, out_channels, kernel_size=3, stride=1, padding=1, bias=False)\n",
        "        self.bn2 = nn.BatchNorm2d(out_channels)\n",
        "        self.shortcut = nn.Sequential()\n",
        "        if stride != 1 or in_channels != out_channels:\n",
        "            self.shortcut = nn.Sequential(\n",
        "                nn.Conv2d(in_channels, out_channels, kernel_size=1, stride=stride, bias=False),\n",
        "                nn.BatchNorm2d(out_channels)\n",
        "            )\n",
        "\n",
        "    def forward(self, x):\n",
        "        out = F.relu(self.bn1(self.conv1(x)))\n",
        "        out = self.bn2(self.conv2(out))\n",
        "        out += self.shortcut(x)\n",
        "        out = F.relu(out)\n",
        "        return out"
      ],
      "metadata": {
        "id": "UL-jE_QzZHiU"
      },
      "execution_count": null,
      "outputs": []
    },
    {
      "cell_type": "code",
      "source": [
        "class ResNet(nn.Module):\n",
        "    def __init__(self, block, num_blocks, num_classes=10):\n",
        "        super(ResNet, self).__init__()\n",
        "        self.in_channels = 64\n",
        "        self.conv1 = nn.Conv2d(3, 64, kernel_size=3, stride=1, padding=1, bias=False)\n",
        "        self.bn1 = nn.BatchNorm2d(64)\n",
        "        self.layer1 = self.make_layer(block, 64, num_blocks[0], stride=1)\n",
        "        self.layer2 = self.make_layer(block, 128, num_blocks[1], stride=2)\n",
        "        self.layer3 = self.make_layer(block, 256, num_blocks[2], stride=2)\n",
        "        self.layer4 = self.make_layer(block, 512, num_blocks[3], stride=2)\n",
        "        self.avg_pool = nn.AdaptiveAvgPool2d((1, 1))\n",
        "        self.fc = nn.Linear(512, num_classes)\n",
        "\n",
        "    def make_layer(self, block, out_channels, num_blocks, stride):\n",
        "        strides = [stride] + [1] * (num_blocks - 1)\n",
        "        layers = []\n",
        "        for stride in strides:\n",
        "            layers.append(block(self.in_channels, out_channels, stride))\n",
        "            self.in_channels = out_channels\n",
        "        return nn.Sequential(*layers)\n",
        "\n",
        "    def forward(self, x):\n",
        "        out = F.relu(self.bn1(self.conv1(x)))\n",
        "        out = self.layer1(out)\n",
        "        out = self.layer2(out)\n",
        "        out = self.layer3(out)\n",
        "        out = self.layer4(out)\n",
        "        out = self.avg_pool(out)\n",
        "        out = out.view(out.size(0), -1)\n",
        "        out = self.fc(out)\n",
        "        return out"
      ],
      "metadata": {
        "id": "8Kfm8epWZIrz"
      },
      "execution_count": null,
      "outputs": []
    },
    {
      "cell_type": "code",
      "source": [
        "# Define the model\n",
        "model = ResNet(BasicBlock, [2, 2, 2, 2])\n",
        "\n",
        "# Define the loss function and optimizer\n",
        "criterion = nn.CrossEntropyLoss()\n",
        "optimizer = optim.SGD(model.parameters(), lr=0.1, momentum=0.9, weight_decay=5e-4)\n",
        "\n",
        "# Learning rate scheduler\n",
        "scheduler = StepLR(optimizer, step_size=30, gamma=0.1)\n",
        "\n",
        "# Check if CUDA is available and move the model to GPU if possible\n",
        "device = torch.device(\"cuda\" if torch.cuda.is_available() else \"cpu\")\n",
        "model.to(device)\n",
        "\n",
        "# Training function\n",
        "def train(n_epochs, train_loader, test_loader, model, optimizer, criterion, scheduler, device):\n",
        "    model.train()  # Set the model to training mode\n",
        "    batch_losses = []\n",
        "    epoch_train_acc = []\n",
        "    epoch_test_acc = []\n",
        "\n",
        "    for epoch in range(n_epochs):\n",
        "        running_loss = 0.0\n",
        "        correct = 0\n",
        "        total = 0\n",
        "        model.train()\n",
        "\n",
        "        for batch_idx, (inputs, targets) in enumerate(train_loader):\n",
        "            inputs, targets = inputs.to(device), targets.to(device)\n",
        "            optimizer.zero_grad()\n",
        "            outputs = model(inputs)\n",
        "            loss = criterion(outputs, targets)\n",
        "            loss.backward()\n",
        "            optimizer.step()\n",
        "\n",
        "            running_loss += loss.item()\n",
        "            batch_losses.append(loss.item())  # Record batch loss\n",
        "            _, predicted = torch.max(outputs.data, 1)\n",
        "            total += targets.size(0)\n",
        "            correct += (predicted == targets).sum().item()\n",
        "\n",
        "        scheduler.step()  # Update the learning rate\n",
        "        train_accuracy = 100 * correct / total\n",
        "        epoch_train_acc.append(train_accuracy)  # Record training accuracy\n",
        "\n",
        "        # Print training results\n",
        "        print(f'Epoch {epoch+1} - Loss: {running_loss / len(train_loader):.3f}, Accuracy: {train_accuracy:.2f}%')\n",
        "\n",
        "        # Run evaluation after each epoch\n",
        "        test_accuracy = evaluate(test_loader, model, criterion, device)\n",
        "        epoch_test_acc.append(test_accuracy)  # Record testing accuracy\n",
        "\n",
        "    # Plot batch losses\n",
        "    plt.figure(figsize=(12, 6))\n",
        "    plt.plot(batch_losses, label='Batch Loss')\n",
        "    plt.xlabel('Batch')\n",
        "    plt.ylabel('Loss')\n",
        "    plt.legend()\n",
        "    plt.title('Training Batch Losses')\n",
        "    plt.show()\n",
        "\n",
        "    # Plot training and testing accuracies\n",
        "    plt.figure(figsize=(12, 6))\n",
        "    plt.plot(epoch_train_acc, label='Training Accuracy')\n",
        "    plt.plot(epoch_test_acc, label='Testing Accuracy')\n",
        "    plt.xlabel('Epoch')\n",
        "    plt.ylabel('Accuracy')\n",
        "    plt.legend()\n",
        "    plt.title('Training and Testing Accuracies')\n",
        "    plt.show()\n",
        "\n",
        "    return epoch_train_acc, epoch_test_acc, batch_losses\n",
        "\n",
        "# Evaluation function now returns accuracy\n",
        "def evaluate(test_loader, model, criterion, device):\n",
        "    model.eval()  # Set the model to evaluation mode\n",
        "    test_loss = 0\n",
        "    correct = 0\n",
        "    total = 0\n",
        "\n",
        "    with torch.no_grad():\n",
        "        for batch_idx, (inputs, targets) in enumerate(test_loader):\n",
        "            inputs, targets = inputs.to(device), targets.to(device)\n",
        "            outputs = model(inputs)\n",
        "            loss = criterion(outputs, targets)\n",
        "            test_loss += loss.item()\n",
        "            _, predicted = torch.max(outputs.data, 1)\n",
        "            total += targets.size(0)\n",
        "            correct += (predicted == targets).sum().item()\n",
        "\n",
        "    test_accuracy = 100 * correct / total\n",
        "    print(f'Test Loss: {test_loss / len(test_loader):.3f}, Test Accuracy: {test_accuracy:.2f}%')\n",
        "    return test_accuracy\n",
        "\n",
        "# Run the training and evaluation\n",
        "n_epochs = 50  # Number of epochs to train for\n",
        "train_stats = train(n_epochs, train_loader, test_loader, model, optimizer, criterion, scheduler, device)\n"
      ],
      "metadata": {
        "colab": {
          "base_uri": "https://localhost:8080/",
          "height": 1000
        },
        "id": "uVV2MR2PZM9T",
        "outputId": "5cdeb32b-2565-45fb-e8a5-3594e507aa6a"
      },
      "execution_count": null,
      "outputs": [
        {
          "output_type": "stream",
          "name": "stdout",
          "text": [
            "Epoch 1 - Loss: 1.901, Accuracy: 31.47%\n",
            "Test Loss: 1.536, Test Accuracy: 40.92%\n",
            "Epoch 2 - Loss: 1.405, Accuracy: 48.38%\n",
            "Test Loss: 1.370, Test Accuracy: 52.01%\n",
            "Epoch 3 - Loss: 1.129, Accuracy: 59.72%\n",
            "Test Loss: 1.036, Test Accuracy: 63.80%\n",
            "Epoch 4 - Loss: 0.930, Accuracy: 67.17%\n",
            "Test Loss: 0.916, Test Accuracy: 67.96%\n",
            "Epoch 5 - Loss: 0.777, Accuracy: 72.68%\n",
            "Test Loss: 0.875, Test Accuracy: 70.76%\n",
            "Epoch 6 - Loss: 0.664, Accuracy: 76.83%\n",
            "Test Loss: 0.803, Test Accuracy: 74.36%\n",
            "Epoch 7 - Loss: 0.594, Accuracy: 79.51%\n",
            "Test Loss: 0.842, Test Accuracy: 72.24%\n",
            "Epoch 8 - Loss: 0.558, Accuracy: 80.96%\n",
            "Test Loss: 0.636, Test Accuracy: 78.60%\n",
            "Epoch 9 - Loss: 0.522, Accuracy: 82.15%\n",
            "Test Loss: 0.813, Test Accuracy: 73.14%\n",
            "Epoch 10 - Loss: 0.508, Accuracy: 82.48%\n",
            "Test Loss: 0.648, Test Accuracy: 77.97%\n",
            "Epoch 11 - Loss: 0.484, Accuracy: 83.56%\n",
            "Test Loss: 0.723, Test Accuracy: 76.05%\n",
            "Epoch 12 - Loss: 0.470, Accuracy: 83.75%\n",
            "Test Loss: 0.659, Test Accuracy: 78.29%\n",
            "Epoch 13 - Loss: 0.455, Accuracy: 84.40%\n",
            "Test Loss: 0.567, Test Accuracy: 81.08%\n",
            "Epoch 14 - Loss: 0.437, Accuracy: 85.12%\n",
            "Test Loss: 0.953, Test Accuracy: 72.01%\n",
            "Epoch 15 - Loss: 0.425, Accuracy: 85.57%\n",
            "Test Loss: 0.548, Test Accuracy: 81.92%\n",
            "Epoch 16 - Loss: 0.415, Accuracy: 85.77%\n",
            "Test Loss: 0.595, Test Accuracy: 81.11%\n",
            "Epoch 17 - Loss: 0.407, Accuracy: 86.08%\n",
            "Test Loss: 0.767, Test Accuracy: 77.69%\n",
            "Epoch 18 - Loss: 0.404, Accuracy: 86.10%\n",
            "Test Loss: 0.475, Test Accuracy: 83.95%\n",
            "Epoch 19 - Loss: 0.400, Accuracy: 86.31%\n",
            "Test Loss: 0.527, Test Accuracy: 82.10%\n",
            "Epoch 20 - Loss: 0.392, Accuracy: 86.65%\n",
            "Test Loss: 0.667, Test Accuracy: 78.71%\n",
            "Epoch 21 - Loss: 0.387, Accuracy: 86.73%\n",
            "Test Loss: 0.670, Test Accuracy: 78.97%\n",
            "Epoch 22 - Loss: 0.382, Accuracy: 87.10%\n",
            "Test Loss: 0.484, Test Accuracy: 82.93%\n",
            "Epoch 23 - Loss: 0.378, Accuracy: 87.19%\n",
            "Test Loss: 0.653, Test Accuracy: 79.23%\n",
            "Epoch 24 - Loss: 0.374, Accuracy: 87.35%\n",
            "Test Loss: 0.654, Test Accuracy: 79.26%\n",
            "Epoch 25 - Loss: 0.373, Accuracy: 87.24%\n",
            "Test Loss: 0.861, Test Accuracy: 75.12%\n",
            "Epoch 26 - Loss: 0.362, Accuracy: 87.61%\n",
            "Test Loss: 0.602, Test Accuracy: 80.62%\n",
            "Epoch 27 - Loss: 0.365, Accuracy: 87.55%\n",
            "Test Loss: 0.477, Test Accuracy: 84.97%\n",
            "Epoch 28 - Loss: 0.358, Accuracy: 87.81%\n",
            "Test Loss: 0.582, Test Accuracy: 81.32%\n",
            "Epoch 29 - Loss: 0.360, Accuracy: 87.83%\n",
            "Test Loss: 0.475, Test Accuracy: 84.08%\n",
            "Epoch 30 - Loss: 0.355, Accuracy: 87.95%\n",
            "Test Loss: 0.451, Test Accuracy: 84.87%\n",
            "Epoch 31 - Loss: 0.201, Accuracy: 93.26%\n",
            "Test Loss: 0.235, Test Accuracy: 91.87%\n",
            "Epoch 32 - Loss: 0.152, Accuracy: 94.95%\n",
            "Test Loss: 0.223, Test Accuracy: 92.28%\n",
            "Epoch 33 - Loss: 0.133, Accuracy: 95.48%\n",
            "Test Loss: 0.222, Test Accuracy: 92.64%\n",
            "Epoch 34 - Loss: 0.116, Accuracy: 96.14%\n",
            "Test Loss: 0.216, Test Accuracy: 92.86%\n",
            "Epoch 35 - Loss: 0.104, Accuracy: 96.54%\n",
            "Test Loss: 0.220, Test Accuracy: 92.64%\n",
            "Epoch 36 - Loss: 0.096, Accuracy: 96.87%\n",
            "Test Loss: 0.216, Test Accuracy: 92.94%\n",
            "Epoch 37 - Loss: 0.085, Accuracy: 97.09%\n",
            "Test Loss: 0.234, Test Accuracy: 92.71%\n",
            "Epoch 38 - Loss: 0.080, Accuracy: 97.32%\n",
            "Test Loss: 0.228, Test Accuracy: 92.66%\n",
            "Epoch 39 - Loss: 0.070, Accuracy: 97.68%\n",
            "Test Loss: 0.235, Test Accuracy: 92.78%\n",
            "Epoch 40 - Loss: 0.066, Accuracy: 97.81%\n",
            "Test Loss: 0.236, Test Accuracy: 92.73%\n",
            "Epoch 41 - Loss: 0.064, Accuracy: 97.79%\n",
            "Test Loss: 0.233, Test Accuracy: 92.81%\n",
            "Epoch 42 - Loss: 0.059, Accuracy: 98.05%\n",
            "Test Loss: 0.243, Test Accuracy: 92.72%\n",
            "Epoch 43 - Loss: 0.055, Accuracy: 98.10%\n",
            "Test Loss: 0.242, Test Accuracy: 92.90%\n",
            "Epoch 44 - Loss: 0.052, Accuracy: 98.25%\n",
            "Test Loss: 0.261, Test Accuracy: 92.71%\n",
            "Epoch 45 - Loss: 0.049, Accuracy: 98.31%\n",
            "Test Loss: 0.251, Test Accuracy: 92.88%\n",
            "Epoch 46 - Loss: 0.047, Accuracy: 98.50%\n",
            "Test Loss: 0.256, Test Accuracy: 92.60%\n",
            "Epoch 47 - Loss: 0.047, Accuracy: 98.37%\n",
            "Test Loss: 0.253, Test Accuracy: 93.14%\n",
            "Epoch 48 - Loss: 0.045, Accuracy: 98.52%\n",
            "Test Loss: 0.247, Test Accuracy: 92.98%\n",
            "Epoch 49 - Loss: 0.043, Accuracy: 98.59%\n",
            "Test Loss: 0.264, Test Accuracy: 92.95%\n",
            "Epoch 50 - Loss: 0.047, Accuracy: 98.41%\n",
            "Test Loss: 0.246, Test Accuracy: 93.08%\n"
          ]
        },
        {
          "output_type": "display_data",
          "data": {
            "text/plain": [
              "<Figure size 1200x600 with 1 Axes>"
            ],
            "image/png": "[encoded data removed]"
          },
          "metadata": {}
        },
        {
          "output_type": "display_data",
          "data": {
            "text/plain": [
              "<Figure size 1200x600 with 1 Axes>"
            ],
            "image/png": "[encoded data removed]"
          },
          "metadata": {}
        }
      ]
    },
    {
      "cell_type": "markdown",
      "source": [
        "References:\n",
        "\n",
        "Simonyan, K., & Zisserman, A. (2014). Very deep convolutional networks for large-scale image recognition. arXiv preprint arXiv:1409.1556.\n",
        "Sun, H., Varadarajan, J., & Shen, W. (2021). Channel-wise Attention and Regularization for Image Classification. arXiv preprint arXiv:2103.09950.\n",
        "He, K., Zhang, X., Ren, S., & Sun, J. (2016). Deep Residual Learning for Image Recognition. In Proceedings of the IEEE conference on computer vision and pattern recognition (pp. 770-778).\n",
        "He, K., Zhang, X., Ren, S., & Sun, J. (2016). Deep residual learning for image recognition. In Proceedings of the IEEE conference on computer vision and pattern recognition (pp. 770-778)."
      ],
      "metadata": {
        "id": "XI6SOnPrit3g"
      }
    }
  ]
}